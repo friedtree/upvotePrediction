{
 "cells": [
  {
   "cell_type": "code",
   "execution_count": 1,
   "metadata": {},
   "outputs": [],
   "source": [
    "import numpy as np\n",
    "import math\n",
    "import matplotlib.pyplot as plt\n",
    "import pandas as pd\n",
    "import scipy as sp\n",
    "import sys\n",
    "import IPython\n",
    "from sklearn.model_selection import cross_val_score, GridSearchCV, cross_validate, train_test_split"
   ]
  },
  {
   "cell_type": "code",
   "execution_count": 2,
   "metadata": {},
   "outputs": [
    {
     "name": "stdout",
     "output_type": "stream",
     "text": [
      "                  ID    Reputation        Answers       Username  \\\n",
      "count  330045.000000  3.300450e+05  330045.000000  330045.000000   \n",
      "mean   235748.682789  7.773147e+03       3.917672   81442.888803   \n",
      "std    136039.418471  2.706141e+04       3.579515   49215.100730   \n",
      "min         1.000000  0.000000e+00       0.000000       0.000000   \n",
      "25%    117909.000000  2.820000e+02       2.000000   39808.000000   \n",
      "50%    235699.000000  1.236000e+03       3.000000   79010.000000   \n",
      "75%    353620.000000  5.118000e+03       5.000000  122559.000000   \n",
      "max    471493.000000  1.042428e+06      76.000000  175738.000000   \n",
      "\n",
      "              Views        Upvotes  \n",
      "count  3.300450e+05  330045.000000  \n",
      "mean   2.964507e+04     337.505358  \n",
      "std    8.095646e+04    3592.441135  \n",
      "min    9.000000e+00       0.000000  \n",
      "25%    2.594000e+03       8.000000  \n",
      "50%    8.954000e+03      28.000000  \n",
      "75%    2.687000e+04     107.000000  \n",
      "max    5.231058e+06  615278.000000  \n"
     ]
    }
   ],
   "source": [
    "# Load data and remove outliners\n",
    "df_full = pd.read_csv(\"train_NIR5Yl1.csv\")\n",
    "print(df_full.describe())\n",
    "\n",
    "df_full = df_full.sort_values('Upvotes')\n",
    "n = len(df_full)\n",
    "ex_data = math.floor(0*n/100)\n",
    "df = df_full[ex_data:n-ex_data]\n",
    "\n",
    "n= len(df)\n",
    "ex_data = math.floor(0*n/100)\n",
    "df= df.sort_values('Views')\n",
    "df = df[ex_data:n-ex_data]\n",
    "\n",
    "n= len(df)\n",
    "ex_data = math.floor(0*n/100)\n",
    "df=df.sort_values('Reputation')\n",
    "df = df[ex_data:n-ex_data]"
   ]
  },
  {
   "cell_type": "code",
   "execution_count": 3,
   "metadata": {},
   "outputs": [
    {
     "data": {
      "text/plain": [
       "<matplotlib.axes._subplots.AxesSubplot at 0x109f7eda0>"
      ]
     },
     "execution_count": 3,
     "metadata": {},
     "output_type": "execute_result"
    },
    {
     "data": {
      "image/png": "[encoded data removed]",
      "text/plain": [
       "<Figure size 432x288 with 2 Axes>"
      ]
     },
     "metadata": {
      "needs_background": "light"
     },
     "output_type": "display_data"
    }
   ],
   "source": [
    "#hist = np.histogram(Y,bins = 40)\n",
    "#plt.hist(Y,bins=10)\n",
    "plt.figure(1)\n",
    "plt.subplot(2,1,1)\n",
    "df['Upvotes'].plot(kind='hist')\n",
    "plt.subplot(2,1,2)\n",
    "df['Upvotes'].plot(kind='kde')"
   ]
  },
  {
   "cell_type": "code",
   "execution_count": 4,
   "metadata": {},
   "outputs": [],
   "source": [
    "# Dummy code Tag column and add to main data\n",
    "dummies = pd.get_dummies(df['Tag'])\n",
    "dummy_cols = ['c','h','i','j','o','p','r','s','x']\n",
    "normal_cols = ['Reputation','Views']\n",
    "df = pd.concat([df,dummies],axis=1)\n",
    "df.drop(['Tag','a'],inplace=True,axis =1 )"
   ]
  },
  {
   "cell_type": "code",
   "execution_count": 5,
   "metadata": {},
   "outputs": [],
   "source": [
    "# Normalise numerical columns\n",
    "#from sklearn.preprocessing import StandardScaler, normalize\n",
    "#scaler = StandardScaler()\n",
    "#df[normal_cols] = scaler.fit_transform(df[normal_cols])"
   ]
  },
  {
   "cell_type": "code",
   "execution_count": 6,
   "metadata": {},
   "outputs": [],
   "source": [
    "#X = df.loc[:, ['Reputation','Answers','Views'] ]\n",
    "X = df.loc[:, ['ID'] + normal_cols  + dummy_cols]\n",
    "#X = df.loc[:, ['Views'] ]\n",
    "Y = df.loc[:, 'Upvotes']"
   ]
  },
  {
   "cell_type": "code",
   "execution_count": 7,
   "metadata": {},
   "outputs": [],
   "source": [
    "# split data\n",
    "x_train, x_test, y_train, y_test = train_test_split(\n",
    "        X, Y, test_size=0.3, random_state=100)"
   ]
  },
  {
   "cell_type": "code",
   "execution_count": 8,
   "metadata": {},
   "outputs": [],
   "source": [
    "ID_train = x_train['ID']\n",
    "ID_test = x_test['ID']\n",
    "x_train = x_train.drop(['ID'],axis =1 )\n",
    "x_test = x_test.drop(['ID'],axis =1 )"
   ]
  },
  {
   "cell_type": "code",
   "execution_count": 9,
   "metadata": {},
   "outputs": [],
   "source": [
    "# Create poly matrices\n",
    "from sklearn.preprocessing import PolynomialFeatures\n",
    "poly = PolynomialFeatures(degree=2)\n",
    "poly_x_train = poly.fit_transform(x_train)\n",
    "poly_x_test = poly.fit_transform(x_test)"
   ]
  },
  {
   "cell_type": "code",
   "execution_count": 10,
   "metadata": {},
   "outputs": [],
   "source": [
    "from sklearn.linear_model import LinearRegression, Ridge, Lasso\n",
    "LR = LinearRegression()\n",
    "#LR = Ridge(alpha = 10)\n",
    "#LR = Lasso(alpha = 10)\n",
    "LR.fit(poly_x_train,y_train)\n",
    "y_train_pred = LR.predict(poly_x_train).round()\n",
    "y_test_pred = LR.predict(poly_x_test).round()"
   ]
  },
  {
   "cell_type": "code",
   "execution_count": 11,
   "metadata": {},
   "outputs": [
    {
     "name": "stdout",
     "output_type": "stream",
     "text": [
      "RMS error train:  1049.6219045902112\n",
      "RMS error test:  1347.588908814628\n",
      "0.9176992303147222\n",
      "0.8458911995641225\n"
     ]
    }
   ],
   "source": [
    "from sklearn.metrics import mean_squared_error\n",
    "from math import sqrt\n",
    "rms = sqrt(mean_squared_error(y_train,y_train_pred))\n",
    "print(\"RMS error train: \",rms)\n",
    "rms = sqrt(mean_squared_error(y_test,y_test_pred))\n",
    "print(\"RMS error test: \",rms)\n",
    "print(LR.score(poly_x_train,y_train))\n",
    "print(LR.score(poly_x_test,y_test))"
   ]
  },
  {
   "cell_type": "code",
   "execution_count": 12,
   "metadata": {},
   "outputs": [],
   "source": [
    "#plt.scatter(ID_train[1:100], y_train[1:100],  color='black')\n",
    "#plt.scatter(ID_train[1:100], y_train_pred[1:100],  color='blue')\n",
    "#plt.scatter(x_train.loc[:,'Reputation'], y_train_pred,  color='red')\n",
    "#plt.scatter(x_train[:,1], y_train[:,1],  color='black')\n",
    "#plt.plot(x_train, LR.predict(x_train),color= 'red')\n",
    "#plt.title('Train Data')\n",
    "#plt.xlabel('X')\n",
    "#plt.ylabel('Y')\n",
    "#plt.show()"
   ]
  },
  {
   "cell_type": "code",
   "execution_count": 13,
   "metadata": {},
   "outputs": [
    {
     "data": {
      "text/plain": [
       "<matplotlib.collections.PathCollection at 0x1a3348b6a0>"
      ]
     },
     "execution_count": 13,
     "metadata": {},
     "output_type": "execute_result"
    },
    {
     "data": {
      "image/png": "[encoded data removed]",
      "text/plain": [
       "<Figure size 432x288 with 1 Axes>"
      ]
     },
     "metadata": {
      "needs_background": "light"
     },
     "output_type": "display_data"
    }
   ],
   "source": [
    "residuals_train = y_train.subtract(y_train_pred)\n",
    "plt.scatter(ID_train,residuals_train)"
   ]
  },
  {
   "cell_type": "code",
   "execution_count": 14,
   "metadata": {},
   "outputs": [
    {
     "name": "stdout",
     "output_type": "stream",
     "text": [
      "['Reputation', 'Views', 'c', 'h', 'i', 'j', 'o', 'p', 'r', 's', 'x']\n",
      "['Reputation', 'Views', 'c', 'h', 'i', 'j', 'o', 'p', 'r', 's', 'x']\n"
     ]
    }
   ],
   "source": [
    "test_df = pd.read_csv('test_8i3B3FC.csv')\n",
    "dummies = pd.get_dummies(test_df['Tag'])\n",
    "test_df = pd.concat([test_df,dummies],axis=1)\n",
    "\n",
    "test_df.drop(['Tag','a'],inplace=True,axis =1 )\n",
    "#test_df[normal_cols] = scaler.fit_transform(test_df[normal_cols])\n",
    "X = test_df.loc[:, normal_cols + dummy_cols ]\n",
    "poly_X = poly.fit_transform(X)\n",
    "print(list(x_train))\n",
    "print(list(X))\n",
    "y_submit = LR.predict(poly_X).round()"
   ]
  },
  {
   "cell_type": "code",
   "execution_count": 15,
   "metadata": {},
   "outputs": [],
   "source": [
    "test_df['Upvotes'] = y_submit\n",
    "submit_data = test_df.loc[:,['ID','Upvotes']]\n",
    "submit_data.to_csv('out2.csv',index=False)"
   ]
  },
  {
   "cell_type": "code",
   "execution_count": null,
   "metadata": {},
   "outputs": [],
   "source": []
  },
  {
   "cell_type": "code",
   "execution_count": null,
   "metadata": {},
   "outputs": [],
   "source": []
  },
  {
   "cell_type": "code",
   "execution_count": null,
   "metadata": {},
   "outputs": [],
   "source": []
  },
  {
   "cell_type": "code",
   "execution_count": null,
   "metadata": {},
   "outputs": [],
   "source": []
  }
 ],
 "metadata": {
  "kernelspec": {
   "display_name": "Python (hw4)",
   "language": "python",
   "name": "hw4"
  },
  "language_info": {
   "codemirror_mode": {
    "name": "ipython",
    "version": 3
   },
   "file_extension": ".py",
   "mimetype": "text/x-python",
   "name": "python",
   "nbconvert_exporter": "python",
   "pygments_lexer": "ipython3",
   "version": "3.7.2"
  }
 },
 "nbformat": 4,
 "nbformat_minor": 2
}
